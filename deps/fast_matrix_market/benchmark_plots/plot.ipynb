{
 "cells": [
  {
   "cell_type": "code",
   "execution_count": null,
   "metadata": {
    "collapsed": true
   },
   "outputs": [],
   "source": [
    "from pathlib import Path\n",
    "\n",
    "# Paste output from benchmark binary. This notebook parses and plots the benchmark results.\n",
    "benchmark_output_dir = Path(\"benchmark_output\")\n",
    "system_description = \"\"\n",
    "if not list(benchmark_output_dir.glob(\"*.json\")):\n",
    "    benchmark_output_dir = Path(\"benchmark_output_example\")\n",
    "    for candidate in sorted(benchmark_output_dir.glob(\"*.json\")):\n",
    "        system_description = candidate.stem[candidate.stem.find(\"-\")+1:]\n",
    "        break\n",
    "\n",
    "save_images_used_in_readme = False\n",
    "figure_show_mode = 'svg' # 'svg' is inline and visible in GitHub, None is native interactive plotly plots that are not visible in GitHub and several MB in size"
   ]
  },
  {
   "cell_type": "code",
   "execution_count": null,
   "outputs": [],
   "source": [
    "def google_benchmark_output_to_dataframe(path: Path):\n",
    "    import json\n",
    "\n",
    "    everything = json.loads(path.read_text())\n",
    "\n",
    "    sequential = []\n",
    "    max_p = 1\n",
    "    # parse out interesting information\n",
    "    for bench in everything[\"benchmarks\"]:\n",
    "        # is the benchmark parallel\n",
    "        bench[\"parallel\"] = \"/p:\" in bench[\"name\"]\n",
    "\n",
    "        name_parts = bench[\"name\"].split(\"/\")\n",
    "\n",
    "        bench[\"p\"] = 1\n",
    "        for part in name_parts:\n",
    "            if \":\" in part:\n",
    "                k, v = part.split(':')\n",
    "                bench[k] = int(v) if k==\"p\" else v\n",
    "        max_p = max(max_p, bench[\"p\"])\n",
    "\n",
    "        if not bench[\"parallel\"]:\n",
    "            sequential.append(bench)\n",
    "\n",
    "    for bench in sequential:\n",
    "        dupe = dict(bench)\n",
    "        dupe[\"p\"] = max_p\n",
    "        everything[\"benchmarks\"].append(dupe)\n",
    "\n",
    "    res = pd.DataFrame(everything[\"benchmarks\"])\n",
    "    return res\n",
    "\n",
    "def get_system_description(bench_output: Path):\n",
    "    import json\n",
    "    everything = json.loads(bench_output.read_text())\n",
    "    num_cores = everything.get(\"context\", {}).get(\"num_cpus\", None)\n",
    "    hostname = everything.get(\"context\", {}).get(\"host_name\", \"\")\n",
    "\n",
    "    core_str = f\"{num_cores}-Core\" if num_cores else \"\"\n",
    "    return \" \".join([core_str, hostname])\n"
   ],
   "metadata": {
    "collapsed": false
   }
  },
  {
   "cell_type": "code",
   "execution_count": null,
   "outputs": [],
   "source": [
    "import pandas as pd\n",
    "import plotly.express as px\n",
    "\n",
    "files = []\n",
    "\n",
    "for candidate in sorted(benchmark_output_dir.glob(\"*.json\")):\n",
    "    dash = candidate.stem.find(\"-\")\n",
    "    df = google_benchmark_output_to_dataframe(candidate)\n",
    "    df.sort_values(by=['impl', 'matrix', 'op', 'lang', 'p'], ascending=[True, False, True, True, True], inplace=True)\n",
    "\n",
    "    sd = system_description\n",
    "    if not sd:\n",
    "        sd = f\"{get_system_description(candidate)} - {candidate.name}\"\n",
    "\n",
    "    files.append(dict(\n",
    "        filename=candidate.stem,\n",
    "        fn_suffix=candidate.stem[dash+1:],\n",
    "        fn_prefix=candidate.stem[:dash],\n",
    "        system_description=sd,\n",
    "        df=df\n",
    "    ))\n"
   ],
   "metadata": {
    "collapsed": false
   }
  },
  {
   "cell_type": "code",
   "execution_count": null,
   "outputs": [],
   "source": [
    "language_colors = {\n",
    "    \"C++\": \"#f34b7d\",\n",
    "    \"Python\": \"#3572A5\",\n",
    "}\n",
    "\n",
    "impl_colors = {\n",
    "    \"IOStream\": language_colors[\"C++\"],\n",
    "    \"FMM\": \"gold\",\n",
    "    \"SciPy\": language_colors[\"Python\"],\n",
    "}\n",
    "\n",
    "def set_consistent_trace_colors(trace):\n",
    "    for impl, color in impl_colors.items():\n",
    "        if impl in trace.name:\n",
    "            trace.update(line=dict(color=color))\n",
    "    if \"Array\" in trace.name:\n",
    "        trace.update(line=dict(dash='dash'))\n",
    "\n",
    "for file in files:\n",
    "    for op in \"read\", \"write\":\n",
    "        data = file[\"df\"].copy()\n",
    "        system_description = file[\"system_description\"]\n",
    "\n",
    "        data = data[data[\"op\"] == op]\n",
    "        data[\"label\"] = data.apply(lambda row: f\"{row['impl']} {row['matrix']}\", axis=1)\n",
    "\n",
    "        fig = px.line(data, x='p', y='bytes_per_second', title=f\"{op.title()} Parallelism ({system_description})\", color=\"label\")\n",
    "        fig.update_layout(\n",
    "            width=600,\n",
    "            height=400,\n",
    "            yaxis = dict(\n",
    "                title=None,\n",
    "                ticksuffix = 'B/s',\n",
    "                rangemode = 'tozero',\n",
    "                tickformat = '~s'\n",
    "            ),\n",
    "            xaxis = dict(title='# of threads'),\n",
    "            legend=dict(\n",
    "                title=None,\n",
    "                # yanchor=\"top\",\n",
    "                # y=0.99,\n",
    "                # xanchor=\"left\",\n",
    "                # x=0.01\n",
    "            ),\n",
    "        )\n",
    "\n",
    "        # Assign consistent trace colors\n",
    "        fig.for_each_trace(set_consistent_trace_colors)\n",
    "\n",
    "        fig.show(figure_show_mode)\n",
    "        if save_images_used_in_readme:\n",
    "            fig.write_image(f\"parallel-scaling-{file['fn_prefix']}-{op}.svg\")"
   ],
   "metadata": {
    "collapsed": false
   }
  },
  {
   "cell_type": "code",
   "execution_count": null,
   "outputs": [],
   "source": [],
   "metadata": {
    "collapsed": false
   }
  }
 ],
 "metadata": {
  "kernelspec": {
   "display_name": "Python 3",
   "language": "python",
   "name": "python3"
  },
  "language_info": {
   "codemirror_mode": {
    "name": "ipython",
    "version": 2
   },
   "file_extension": ".py",
   "mimetype": "text/x-python",
   "name": "python",
   "nbconvert_exporter": "python",
   "pygments_lexer": "ipython2",
   "version": "2.7.6"
  }
 },
 "nbformat": 4,
 "nbformat_minor": 0
}
